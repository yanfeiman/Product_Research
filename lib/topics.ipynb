{
 "cells": [
  {
   "cell_type": "code",
   "execution_count": 3,
   "metadata": {},
   "outputs": [
    {
     "name": "stderr",
     "output_type": "stream",
     "text": [
      "/Users/amycweng/anaconda3/envs/prod_research3.9/lib/python3.9/site-packages/tqdm/auto.py:21: TqdmWarning: IProgress not found. Please update jupyter and ipywidgets. See https://ipywidgets.readthedocs.io/en/stable/user_install.html\n",
      "  from .autonotebook import tqdm as notebook_tqdm\n"
     ]
    }
   ],
   "source": [
    "from bertopic import BERTopic\n",
    "from bertopic.representation import KeyBERTInspired\n",
    "import pandas as pd \n",
    "import os \n",
    "\n",
    "representation_model = KeyBERTInspired()\n",
    "topic_model = BERTopic(n_gram_range=(1,2), representation_model=representation_model, verbose=True)"
   ]
  },
  {
   "cell_type": "code",
   "execution_count": 13,
   "metadata": {},
   "outputs": [
    {
     "name": "stderr",
     "output_type": "stream",
     "text": [
      "2024-07-06 17:45:01,198 - BERTopic - Embedding - Transforming documents to embeddings.\n",
      "Batches: 100%|██████████| 5/5 [00:01<00:00,  3.83it/s]\n",
      "2024-07-06 17:45:06,258 - BERTopic - Embedding - Completed ✓\n",
      "2024-07-06 17:45:06,259 - BERTopic - Dimensionality - Fitting the dimensionality reduction algorithm\n",
      "2024-07-06 17:45:17,233 - BERTopic - Dimensionality - Completed ✓\n",
      "2024-07-06 17:45:17,234 - BERTopic - Cluster - Start clustering the reduced embeddings\n",
      "2024-07-06 17:45:17,256 - BERTopic - Cluster - Completed ✓\n",
      "2024-07-06 17:45:17,259 - BERTopic - Representation - Extracting topics from clusters using representation models.\n",
      "2024-07-06 17:45:17,700 - BERTopic - Representation - Completed ✓\n"
     ]
    },
    {
     "name": "stdout",
     "output_type": "stream",
     "text": [
      "   Topic  Count                                               Name  \\\n",
      "0      0     95   0_violin strings_violin string_violin set_violin   \n",
      "1      1     52  1_violin strings_string violin_violin string_a...   \n",
      "\n",
      "                                      Representation  \\\n",
      "0  [violin strings, violin string, violin set, vi...   \n",
      "1  [violin strings, string violin, violin string,...   \n",
      "\n",
      "                                 Representative_Docs  \n",
      "0  [Pirastro Evah Pirazzi 1/8-1/4 Violin String S...  \n",
      "1  [Violin Strings,Violin Strings 4/4 Full Set, M...  \n"
     ]
    }
   ],
   "source": [
    "searches = os.listdir('../data/search_results')\n",
    "for file in searches:  \n",
    "    if '021' not in file: continue # only Violin Strings for now \n",
    "    products = pd.read_csv(f'../data/search_results/{file}')\n",
    "    for keyword in set(products.keyword): \n",
    "        products = products[products.keyword == keyword] \n",
    "        products = products[products.source != \"paid\"] # only Organic & Amazon's Choice products \n",
    "        products = products[products.min_revenue != 0] \n",
    "        titles = []\n",
    "        all_titles = list(products['title'])\n",
    "        for idx, star in enumerate(list(products['rating'])):\n",
    "            if float(star) > 4: \n",
    "                titles.append(all_titles[idx])\n",
    "        topics, probs = topic_model.fit_transform(titles)\n",
    "        print(topic_model.get_topic_info())"
   ]
  },
  {
   "cell_type": "code",
   "execution_count": 4,
   "metadata": {},
   "outputs": [
    {
     "name": "stderr",
     "output_type": "stream",
     "text": [
      "2024-07-06 17:47:04,358 - BERTopic - Embedding - Transforming documents to embeddings.\n",
      "Batches: 100%|██████████| 2/2 [00:02<00:00,  1.09s/it]\n",
      "2024-07-06 17:47:10,779 - BERTopic - Embedding - Completed ✓\n",
      "2024-07-06 17:47:10,780 - BERTopic - Dimensionality - Fitting the dimensionality reduction algorithm\n",
      "2024-07-06 17:47:20,693 - BERTopic - Dimensionality - Completed ✓\n",
      "2024-07-06 17:47:20,694 - BERTopic - Cluster - Start clustering the reduced embeddings\n",
      "2024-07-06 17:47:20,699 - BERTopic - Cluster - Completed ✓\n",
      "2024-07-06 17:47:20,703 - BERTopic - Representation - Extracting topics from clusters using representation models.\n",
      "2024-07-06 17:47:21,193 - BERTopic - Representation - Completed ✓\n"
     ]
    }
   ],
   "source": [
    "all_reviews = pd.read_csv('../data/reviews/.csv')\n",
    "topics, probs = topic_model.fit_transform(list(all_reviews['content']))"
   ]
  },
  {
   "cell_type": "code",
   "execution_count": 5,
   "metadata": {},
   "outputs": [
    {
     "data": {
      "text/html": [
       "<div>\n",
       "<style scoped>\n",
       "    .dataframe tbody tr th:only-of-type {\n",
       "        vertical-align: middle;\n",
       "    }\n",
       "\n",
       "    .dataframe tbody tr th {\n",
       "        vertical-align: top;\n",
       "    }\n",
       "\n",
       "    .dataframe thead th {\n",
       "        text-align: right;\n",
       "    }\n",
       "</style>\n",
       "<table border=\"1\" class=\"dataframe\">\n",
       "  <thead>\n",
       "    <tr style=\"text-align: right;\">\n",
       "      <th></th>\n",
       "      <th>Topic</th>\n",
       "      <th>Count</th>\n",
       "      <th>Name</th>\n",
       "      <th>Representation</th>\n",
       "      <th>Representative_Docs</th>\n",
       "    </tr>\n",
       "  </thead>\n",
       "  <tbody>\n",
       "    <tr>\n",
       "      <th>0</th>\n",
       "      <td>-1</td>\n",
       "      <td>50</td>\n",
       "      <td>-1_strings_violin_the strings_strings are</td>\n",
       "      <td>[strings, violin, the strings, strings are, th...</td>\n",
       "      <td>[Purchased these strings to replace a broken A...</td>\n",
       "    </tr>\n",
       "  </tbody>\n",
       "</table>\n",
       "</div>"
      ],
      "text/plain": [
       "   Topic  Count                                       Name  \\\n",
       "0     -1     50  -1_strings_violin_the strings_strings are   \n",
       "\n",
       "                                      Representation  \\\n",
       "0  [strings, violin, the strings, strings are, th...   \n",
       "\n",
       "                                 Representative_Docs  \n",
       "0  [Purchased these strings to replace a broken A...  "
      ]
     },
     "execution_count": 5,
     "metadata": {},
     "output_type": "execute_result"
    }
   ],
   "source": [
    "topic_model.get_topic_info()"
   ]
  }
 ],
 "metadata": {
  "kernelspec": {
   "display_name": "product_research",
   "language": "python",
   "name": "python3"
  },
  "language_info": {
   "codemirror_mode": {
    "name": "ipython",
    "version": 3
   },
   "file_extension": ".py",
   "mimetype": "text/x-python",
   "name": "python",
   "nbconvert_exporter": "python",
   "pygments_lexer": "ipython3",
   "version": "3.9.19"
  }
 },
 "nbformat": 4,
 "nbformat_minor": 2
}
