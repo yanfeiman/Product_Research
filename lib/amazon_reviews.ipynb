{
 "cells": [
  {
   "cell_type": "code",
   "execution_count": 5,
   "metadata": {},
   "outputs": [],
   "source": [
    "import os \n",
    "import pandas as pd \n",
    "import requests\n",
    "from tqdm import tqdm"
   ]
  },
  {
   "cell_type": "code",
   "execution_count": 6,
   "metadata": {},
   "outputs": [],
   "source": [
    "def get_reviews(asin,page):\n",
    "    task_params = {\n",
    "        'target': 'amazon_reviews',\n",
    "        'query': asin,\n",
    "        \"domain\": \"com\",\n",
    "        \"page_from\": page,\n",
    "        \"parse\": True\n",
    "    }\n",
    "\n",
    "    username = os.environ.get('username')\n",
    "    password = os.environ.get('password')\n",
    "\n",
    "\n",
    "    response = requests.post(\n",
    "        'https://scraper-api.smartproxy.com/v2/scrape',\n",
    "        json = task_params,\n",
    "        auth = (username, password)\n",
    "    )\n",
    "\n",
    "    return response.json()"
   ]
  },
  {
   "cell_type": "code",
   "execution_count": 10,
   "metadata": {},
   "outputs": [
    {
     "name": "stderr",
     "output_type": "stream",
     "text": [
      "100%|██████████| 1/1 [00:02<00:00,  2.89s/it]\n"
     ]
    }
   ],
   "source": [
    "searches = os.listdir('../data/search_results')\n",
    "all_reviews = {} # mapping of asin to a list of reviews to avoid duplicates \n",
    "num_pages = 1\n",
    "topn = 1 # top n products for each keyword in a category \n",
    "export = []\n",
    "\n",
    "for filename in searches:\n",
    "    if '051' not in filename: continue\n",
    "    products = pd.read_csv(f'../data/search_results/{filename}')\n",
    "    for keyword in set(products.keyword): \n",
    "        products = products[products.keyword == keyword] \n",
    "        products = products[products.source != \"paid\"] # only Organic & Amazon's Choice products \n",
    "        products = products[products.reviews_count != 0] # must have at least one review \n",
    "        top = products.sort_values(by=['min_revenue', 'best_seller','rating'],ascending=[False,False,False]).head(topn)\n",
    "        top = list(top['asin'])\n",
    "        for asin in tqdm(top):\n",
    "            if asin in all_reviews: continue\n",
    "            all_reviews[asin] = [] \n",
    "            page1 = get_reviews(asin,\"1\")\n",
    "            page1 = page1['results'][0]['content']['results']\n",
    "            all_reviews[asin].extend(page1['reviews'])\n",
    "            total_num_pages = int(page1['pages'])\n",
    "            if total_num_pages >= 2: \n",
    "                if num_pages < total_num_pages: \n",
    "                    find_num_pages = num_pages\n",
    "                else: \n",
    "                    find_num_pages = total_num_pages\n",
    "                for page in range(2,find_num_pages+1): \n",
    "                    reviews = get_reviews(asin,str(page))\n",
    "                    reviews = reviews['results'][0]['content']['results']['reviews']\n",
    "                    all_reviews[asin].extend(reviews)\n",
    "\n",
    "export = []\n",
    "for asin, review in all_reviews.items(): \n",
    "    for r in review: \n",
    "        r['asin'] = asin\n",
    "        export.append(r)\n",
    "df = pd.DataFrame(export)\n",
    "df.to_csv(f'../data/reviews.csv')"
   ]
  }
 ],
 "metadata": {
  "kernelspec": {
   "display_name": "prod_research3.9",
   "language": "python",
   "name": "python3"
  },
  "language_info": {
   "codemirror_mode": {
    "name": "ipython",
    "version": 3
   },
   "file_extension": ".py",
   "mimetype": "text/x-python",
   "name": "python",
   "nbconvert_exporter": "python",
   "pygments_lexer": "ipython3",
   "version": "3.9.19"
  }
 },
 "nbformat": 4,
 "nbformat_minor": 2
}
